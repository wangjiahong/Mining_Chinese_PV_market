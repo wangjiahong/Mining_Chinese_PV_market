{
 "cells": [
  {
   "cell_type": "markdown",
   "metadata": {},
   "source": [
    "# Chinese PV market data mining"
   ]
  },
  {
   "cell_type": "code",
   "execution_count": 7,
   "metadata": {
    "collapsed": true
   },
   "outputs": [],
   "source": [
    "%matplotlib inline \n",
    "\n",
    "import numpy as np\n",
    "import pandas as pd\n",
    "import scipy.stats as stats\n",
    "import matplotlib.pyplot as plt\n",
    "import sklearn\n",
    "import statsmodels.api as sm\n",
    "\n",
    "import seaborn as sns\n",
    "sns.set_style(\"whitegrid\")\n",
    "sns.set_context(\"poster\")\n",
    "\n",
    "# special matplotlib argument for improved plots\n",
    "from matplotlib import rcParams"
   ]
  },
  {
   "cell_type": "code",
   "execution_count": 8,
   "metadata": {
    "collapsed": false
   },
   "outputs": [],
   "source": [
    "df = pd.read_excel('20141113033622962.xlsx', index_col=None, na_values=['NA'])"
   ]
  },
  {
   "cell_type": "code",
   "execution_count": 9,
   "metadata": {
    "collapsed": false
   },
   "outputs": [],
   "source": [
    "july_battery = pd.read_excel('20141113033622962.xlsx', sheetname= None, index_col=None, na_values=['NA'])"
   ]
  },
  {
   "cell_type": "code",
   "execution_count": 10,
   "metadata": {
    "collapsed": false
   },
   "outputs": [
    {
     "data": {
      "text/plain": [
       "{u'\\u4e03\\u6708\\u7535\\u6c60':    电池出口国家和地区   出口额（美元）       占比 %  Unnamed: 3  Unnamed: 4 Unnamed: 5\n",
       " 0         韩国  24052628  23.934990     出口金额总计：   100491491         美元\n",
       " 1         印度  15360627  15.285500  出口国家和地区总计：          65          个\n",
       " 2        加拿大  14671106  14.599351         NaN         NaN        NaN\n",
       " 3         德国  10544669  10.493096         NaN         NaN        NaN\n",
       " 4       中国台湾   8974735   8.930841         NaN         NaN        NaN\n",
       " 5         日本   6567336   6.535216         NaN         NaN        NaN\n",
       " 6         法国   3071308   3.056287         NaN         NaN        NaN\n",
       " 7        意大利   2222683   2.211812         NaN         NaN        NaN\n",
       " 8         越南   2147302   2.136800         NaN         NaN        NaN\n",
       " 9        土耳其   1902531   1.893226         NaN         NaN        NaN\n",
       " 10      中国香港   1685661   1.677417         NaN         NaN        NaN\n",
       " 11       奥地利   1619823   1.611901         NaN         NaN        NaN\n",
       " 12       葡萄牙   1013820   1.008862         NaN         NaN        NaN\n",
       " 13        南非    907628   0.903189         NaN         NaN        NaN\n",
       " 14       匈牙利    842155   0.838036         NaN         NaN        NaN\n",
       " 15     阿尔及利亚    695894   0.692490         NaN         NaN        NaN\n",
       " 16        约旦    538785   0.536150         NaN         NaN        NaN\n",
       " 17       立陶宛    464459   0.462187         NaN         NaN        NaN\n",
       " 18       阿联酋    336616   0.334970         NaN         NaN        NaN\n",
       " 19       肯尼亚    334632   0.332995         NaN         NaN        NaN\n",
       " 20      孟加拉国    233400   0.232258         NaN         NaN        NaN\n",
       " 21      巴基斯坦    222701   0.221612         NaN         NaN        NaN\n",
       " 22        英国    213532   0.212488         NaN         NaN        NaN\n",
       " 23     印度尼西亚    211940   0.210903         NaN         NaN        NaN\n",
       " 24        也门    195221   0.194266         NaN         NaN        NaN\n",
       " 25      澳大利亚    193344   0.192398         NaN         NaN        NaN\n",
       " 26       突尼斯    161318   0.160529         NaN         NaN        NaN\n",
       " 27        瑞士    149696   0.148964         NaN         NaN        NaN\n",
       " 28      塞内加尔    128938   0.128307         NaN         NaN        NaN\n",
       " 29       西班牙    106507   0.105986         NaN         NaN        NaN\n",
       " ..       ...       ...        ...         ...         ...        ...\n",
       " 35     刚果（金）     42474   0.042266         NaN         NaN        NaN\n",
       " 36        美国     36600   0.036421         NaN         NaN        NaN\n",
       " 37      马来西亚     31870   0.031714         NaN         NaN        NaN\n",
       " 38      爱沙尼亚     31759   0.031604         NaN         NaN        NaN\n",
       " 39        丹麦     24617   0.024497         NaN         NaN        NaN\n",
       " 40       菲律宾     24083   0.023965         NaN         NaN        NaN\n",
       " 41        蒙古     21611   0.021505         NaN         NaN        NaN\n",
       " 42      利比里亚     20541   0.020441         NaN         NaN        NaN\n",
       " 43       墨西哥     20068   0.019970         NaN         NaN        NaN\n",
       " 44       利比亚     19930   0.019833         NaN         NaN        NaN\n",
       " 45      科特迪瓦     18512   0.018421         NaN         NaN        NaN\n",
       " 46      莫桑比克     13487   0.013421         NaN         NaN        NaN\n",
       " 47        荷兰     11399   0.011343         NaN         NaN        NaN\n",
       " 48       摩洛哥     10913   0.010860         NaN         NaN        NaN\n",
       " 49      纳米比亚     10851   0.010798         NaN         NaN        NaN\n",
       " 50       苏里南     10789   0.010736         NaN         NaN        NaN\n",
       " 51       索马里      9946   0.009897         NaN         NaN        NaN\n",
       " 52        缅甸      8460   0.008419         NaN         NaN        NaN\n",
       " 53      博茨瓦那      5008   0.004984         NaN         NaN        NaN\n",
       " 54       几内亚      4388   0.004367         NaN         NaN        NaN\n",
       " 55     毛里塔尼亚      2402   0.002390         NaN         NaN        NaN\n",
       " 56       以色列      1600   0.001592         NaN         NaN        NaN\n",
       " 57       喀麦隆      1590   0.001582         NaN         NaN        NaN\n",
       " 58       科威特      1474   0.001467         NaN         NaN        NaN\n",
       " 59     马达加斯加      1460   0.001453         NaN         NaN        NaN\n",
       " 60     埃塞俄比亚      1080   0.001075         NaN         NaN        NaN\n",
       " 61      尼日利亚       924   0.000919         NaN         NaN        NaN\n",
       " 62        埃及       407   0.000405         NaN         NaN        NaN\n",
       " 63       安哥拉       389   0.000387         NaN         NaN        NaN\n",
       " 64       俄罗斯        20   0.000020         NaN         NaN        NaN\n",
       " \n",
       " [65 rows x 6 columns],\n",
       " u'\\u4e03\\u6708\\u7845\\u7247':    硅片出口国家和地区   出口额（美元）        占比%  Unnamed: 3  Unnamed: 4 Unnamed: 5\n",
       " 0       中国台湾  88583832  52.335161     出口金额总计：   169262558         美元\n",
       " 1         韩国  22310453  13.180974  出口国家和地区总计：          21          个\n",
       " 2        菲律宾  18945609  11.193030         NaN         NaN        NaN\n",
       " 3         日本  11648897   6.882146         NaN         NaN        NaN\n",
       " 4       马来西亚   9273800   5.478944         NaN         NaN        NaN\n",
       " 5         德国   6128970   3.620984         NaN         NaN        NaN\n",
       " 6         印度   4845661   2.862807         NaN         NaN        NaN\n",
       " 7         美国   4405573   2.602804         NaN         NaN        NaN\n",
       " 8       中国香港   1826962   1.079366         NaN         NaN        NaN\n",
       " 9         泰国    515682   0.304664         NaN         NaN        NaN\n",
       " 10        芬兰    309729   0.182987         NaN         NaN        NaN\n",
       " 11       俄罗斯    181581   0.107278         NaN         NaN        NaN\n",
       " 12       土耳其    144113   0.085142         NaN         NaN        NaN\n",
       " 13       阿联酋     37454   0.022128         NaN         NaN        NaN\n",
       " 14       加拿大     33075   0.019541         NaN         NaN        NaN\n",
       " 15        波兰     24831   0.014670         NaN         NaN        NaN\n",
       " 16       新加坡     14231   0.008408         NaN         NaN        NaN\n",
       " 17     印度尼西亚     10200   0.006026         NaN         NaN        NaN\n",
       " 18        荷兰      9470   0.005595         NaN         NaN        NaN\n",
       " 19        法国      8515   0.005031         NaN         NaN        NaN\n",
       " 20        英国      3920   0.002316         NaN         NaN        NaN,\n",
       " u'\\u4e03\\u6708\\u7ec4\\u4ef6':        组件出口国家和地区    出口额（美元）        占比%  Unnamed: 3  Unnamed: 4 Unnamed: 5\n",
       " 0             日本  431615859  44.151674     出口金额总计：   977575306         美元\n",
       " 1             美国  120093526  12.284836  出口国家和地区总计：         139          个\n",
       " 2             荷兰   54666904   5.592091         NaN         NaN        NaN\n",
       " 3             英国   43724996   4.472801         NaN         NaN        NaN\n",
       " 4          阿尔及利亚   39167417   4.006588         NaN         NaN        NaN\n",
       " 5             智利   30037132   3.072616         NaN         NaN        NaN\n",
       " 6            菲律宾   29531444   3.020887         NaN         NaN        NaN\n",
       " 7           巴基斯坦   27515659   2.814684         NaN         NaN        NaN\n",
       " 8             泰国   24429486   2.498988         NaN         NaN        NaN\n",
       " 9           澳大利亚   23487874   2.402666         NaN         NaN        NaN\n",
       " 10            韩国   18834417   1.926646         NaN         NaN        NaN\n",
       " 11          危地马拉   10238964   1.047384         NaN         NaN        NaN\n",
       " 12            印度   10170130   1.040342         NaN         NaN        NaN\n",
       " 13          中国台湾    8829468   0.903201         NaN         NaN        NaN\n",
       " 14          中国香港    8796260   0.899804         NaN         NaN        NaN\n",
       " 15            德国    7578264   0.775210         NaN         NaN        NaN\n",
       " 16           土耳其    7096653   0.725944         NaN         NaN        NaN\n",
       " 17          马来西亚    6905980   0.706440         NaN         NaN        NaN\n",
       " 18            伊朗    6450994   0.659897         NaN         NaN        NaN\n",
       " 19            缅甸    4313485   0.441243         NaN         NaN        NaN\n",
       " 20           阿联酋    4170615   0.426629         NaN         NaN        NaN\n",
       " 21           加拿大    4112757   0.420710         NaN         NaN        NaN\n",
       " 22            南非    4046153   0.413897         NaN         NaN        NaN\n",
       " 23          洪都拉斯    3855779   0.394423         NaN         NaN        NaN\n",
       " 24           意大利    3381014   0.345857         NaN         NaN        NaN\n",
       " 25           新加坡    3207876   0.328146         NaN         NaN        NaN\n",
       " 26           以色列    1958364   0.200329         NaN         NaN        NaN\n",
       " 27          孟加拉国    1920100   0.196415         NaN         NaN        NaN\n",
       " 28            加纳    1919797   0.196384         NaN         NaN        NaN\n",
       " 29           新西兰    1868697   0.191156         NaN         NaN        NaN\n",
       " ..           ...        ...        ...         ...         ...        ...\n",
       " 109        刚果(布)      13342   0.001365         NaN         NaN        NaN\n",
       " 110        捷克共和国      11882   0.001215         NaN         NaN        NaN\n",
       " 111          喀麦隆      11167   0.001142         NaN         NaN        NaN\n",
       " 112   非洲其他国家(地区)      10826   0.001107         NaN         NaN        NaN\n",
       " 113           斐济       9560   0.000978         NaN         NaN        NaN\n",
       " 114         亚美尼亚       9166   0.000938         NaN         NaN        NaN\n",
       " 115          阿根廷       9144   0.000935         NaN         NaN        NaN\n",
       " 116       乌兹别克斯坦       8350   0.000854         NaN         NaN        NaN\n",
       " 117           挪威       7226   0.000739         NaN         NaN        NaN\n",
       " 118          叙利亚       6432   0.000658         NaN         NaN        NaN\n",
       " 119         摩尔多瓦       6210   0.000635         NaN         NaN        NaN\n",
       " 120        埃塞俄比亚       6172   0.000631         NaN         NaN        NaN\n",
       " 121          佛得角       5440   0.000556         NaN         NaN        NaN\n",
       " 122          利比亚       5076   0.000519         NaN         NaN        NaN\n",
       " 123         委内瑞拉       3765   0.000385         NaN         NaN        NaN\n",
       " 124          马耳他       3266   0.000334         NaN         NaN        NaN\n",
       " 125         塞浦路斯       2510   0.000257         NaN         NaN        NaN\n",
       " 126         罗马尼亚       2294   0.000235         NaN         NaN        NaN\n",
       " 127          冈比亚       2200   0.000225         NaN         NaN        NaN\n",
       " 128           贝宁       1568   0.000160         NaN         NaN        NaN\n",
       " 129          几内亚       1455   0.000149         NaN         NaN        NaN\n",
       " 130          匈牙利        978   0.000100         NaN         NaN        NaN\n",
       " 131  大洋洲其他国家(地区)        781   0.000080         NaN         NaN        NaN\n",
       " 132          奥地利        622   0.000064         NaN         NaN        NaN\n",
       " 133        斯洛文尼亚        599   0.000061         NaN         NaN        NaN\n",
       " 134           加蓬        575   0.000059         NaN         NaN        NaN\n",
       " 135          马拉维        490   0.000050         NaN         NaN        NaN\n",
       " 136         保加利亚        310   0.000032         NaN         NaN        NaN\n",
       " 137     荷属安地列斯群岛        280   0.000029         NaN         NaN        NaN\n",
       " 138         利比里亚        130   0.000013         NaN         NaN        NaN\n",
       " \n",
       " [139 rows x 6 columns]}"
      ]
     },
     "execution_count": 10,
     "metadata": {},
     "output_type": "execute_result"
    }
   ],
   "source": [
    "july_battery"
   ]
  },
  {
   "cell_type": "code",
   "execution_count": 11,
   "metadata": {
    "collapsed": false
   },
   "outputs": [
    {
     "data": {
      "text/plain": [
       "dict"
      ]
     },
     "execution_count": 11,
     "metadata": {},
     "output_type": "execute_result"
    }
   ],
   "source": [
    "type(july_battery)"
   ]
  },
  {
   "cell_type": "code",
   "execution_count": null,
   "metadata": {
    "collapsed": true
   },
   "outputs": [],
   "source": []
  },
  {
   "cell_type": "code",
   "execution_count": null,
   "metadata": {
    "collapsed": true
   },
   "outputs": [],
   "source": []
  },
  {
   "cell_type": "code",
   "execution_count": null,
   "metadata": {
    "collapsed": true
   },
   "outputs": [],
   "source": []
  },
  {
   "cell_type": "code",
   "execution_count": null,
   "metadata": {
    "collapsed": true
   },
   "outputs": [],
   "source": []
  },
  {
   "cell_type": "markdown",
   "metadata": {
    "collapsed": true
   },
   "source": [
    "### 2014 July export, including silicon products, cells and PV component"
   ]
  },
  {
   "cell_type": "code",
   "execution_count": 28,
   "metadata": {
    "collapsed": false
   },
   "outputs": [],
   "source": [
    "July_export_2014 = pd.ExcelFile('20141113033622962.xlsx')"
   ]
  },
  {
   "cell_type": "code",
   "execution_count": 29,
   "metadata": {
    "collapsed": false
   },
   "outputs": [
    {
     "data": {
      "text/plain": [
       "<pandas.io.excel.ExcelFile at 0xa8029b0>"
      ]
     },
     "execution_count": 29,
     "metadata": {},
     "output_type": "execute_result"
    }
   ],
   "source": [
    "July_export_2014"
   ]
  },
  {
   "cell_type": "code",
   "execution_count": 30,
   "metadata": {
    "collapsed": false
   },
   "outputs": [],
   "source": [
    "July_silicon_2014 =    July_export_2014.parse(0)\n",
    "July_cell_2014=    July_export_2014.parse(1)\n",
    "July_component_2014 =  July_export_2014.parse(2)"
   ]
  },
  {
   "cell_type": "code",
   "execution_count": 49,
   "metadata": {
    "collapsed": false
   },
   "outputs": [
    {
     "data": {
      "text/html": [
       "<div>\n",
       "<table border=\"1\" class=\"dataframe\">\n",
       "  <thead>\n",
       "    <tr style=\"text-align: right;\">\n",
       "      <th></th>\n",
       "      <th>硅片出口国家和地区</th>\n",
       "      <th>出口额（美元）</th>\n",
       "      <th>占比%</th>\n",
       "      <th>Unnamed: 3</th>\n",
       "      <th>Unnamed: 4</th>\n",
       "      <th>Unnamed: 5</th>\n",
       "    </tr>\n",
       "  </thead>\n",
       "  <tbody>\n",
       "    <tr>\n",
       "      <th>0</th>\n",
       "      <td>中国台湾</td>\n",
       "      <td>88583832</td>\n",
       "      <td>52.335161</td>\n",
       "      <td>出口金额总计：</td>\n",
       "      <td>169262558</td>\n",
       "      <td>美元</td>\n",
       "    </tr>\n",
       "    <tr>\n",
       "      <th>1</th>\n",
       "      <td>韩国</td>\n",
       "      <td>22310453</td>\n",
       "      <td>13.180974</td>\n",
       "      <td>出口国家和地区总计：</td>\n",
       "      <td>21</td>\n",
       "      <td>个</td>\n",
       "    </tr>\n",
       "    <tr>\n",
       "      <th>2</th>\n",
       "      <td>菲律宾</td>\n",
       "      <td>18945609</td>\n",
       "      <td>11.193030</td>\n",
       "      <td>NaN</td>\n",
       "      <td>NaN</td>\n",
       "      <td>NaN</td>\n",
       "    </tr>\n",
       "  </tbody>\n",
       "</table>\n",
       "</div>"
      ],
      "text/plain": [
       "  硅片出口国家和地区   出口额（美元）        占比%  Unnamed: 3  Unnamed: 4 Unnamed: 5\n",
       "0      中国台湾  88583832  52.335161     出口金额总计：   169262558         美元\n",
       "1        韩国  22310453  13.180974  出口国家和地区总计：          21          个\n",
       "2       菲律宾  18945609  11.193030         NaN         NaN        NaN"
      ]
     },
     "execution_count": 49,
     "metadata": {},
     "output_type": "execute_result"
    }
   ],
   "source": [
    "July_silicon_2014.head(3)"
   ]
  },
  {
   "cell_type": "code",
   "execution_count": 50,
   "metadata": {
    "collapsed": false
   },
   "outputs": [
    {
     "data": {
      "text/html": [
       "<div>\n",
       "<table border=\"1\" class=\"dataframe\">\n",
       "  <thead>\n",
       "    <tr style=\"text-align: right;\">\n",
       "      <th></th>\n",
       "      <th>电池出口国家和地区</th>\n",
       "      <th>出口额（美元）</th>\n",
       "      <th>占比 %</th>\n",
       "      <th>Unnamed: 3</th>\n",
       "      <th>Unnamed: 4</th>\n",
       "      <th>Unnamed: 5</th>\n",
       "    </tr>\n",
       "  </thead>\n",
       "  <tbody>\n",
       "    <tr>\n",
       "      <th>0</th>\n",
       "      <td>韩国</td>\n",
       "      <td>24052628</td>\n",
       "      <td>23.934990</td>\n",
       "      <td>出口金额总计：</td>\n",
       "      <td>100491491</td>\n",
       "      <td>美元</td>\n",
       "    </tr>\n",
       "    <tr>\n",
       "      <th>1</th>\n",
       "      <td>印度</td>\n",
       "      <td>15360627</td>\n",
       "      <td>15.285500</td>\n",
       "      <td>出口国家和地区总计：</td>\n",
       "      <td>65</td>\n",
       "      <td>个</td>\n",
       "    </tr>\n",
       "    <tr>\n",
       "      <th>2</th>\n",
       "      <td>加拿大</td>\n",
       "      <td>14671106</td>\n",
       "      <td>14.599351</td>\n",
       "      <td>NaN</td>\n",
       "      <td>NaN</td>\n",
       "      <td>NaN</td>\n",
       "    </tr>\n",
       "  </tbody>\n",
       "</table>\n",
       "</div>"
      ],
      "text/plain": [
       "  电池出口国家和地区   出口额（美元）       占比 %  Unnamed: 3  Unnamed: 4 Unnamed: 5\n",
       "0        韩国  24052628  23.934990     出口金额总计：   100491491         美元\n",
       "1        印度  15360627  15.285500  出口国家和地区总计：          65          个\n",
       "2       加拿大  14671106  14.599351         NaN         NaN        NaN"
      ]
     },
     "execution_count": 50,
     "metadata": {},
     "output_type": "execute_result"
    }
   ],
   "source": [
    "July_cell_2014.head(3)"
   ]
  },
  {
   "cell_type": "code",
   "execution_count": 51,
   "metadata": {
    "collapsed": false
   },
   "outputs": [
    {
     "data": {
      "text/html": [
       "<div>\n",
       "<table border=\"1\" class=\"dataframe\">\n",
       "  <thead>\n",
       "    <tr style=\"text-align: right;\">\n",
       "      <th></th>\n",
       "      <th>组件出口国家和地区</th>\n",
       "      <th>出口额（美元）</th>\n",
       "      <th>占比%</th>\n",
       "      <th>Unnamed: 3</th>\n",
       "      <th>Unnamed: 4</th>\n",
       "      <th>Unnamed: 5</th>\n",
       "    </tr>\n",
       "  </thead>\n",
       "  <tbody>\n",
       "    <tr>\n",
       "      <th>0</th>\n",
       "      <td>日本</td>\n",
       "      <td>431615859</td>\n",
       "      <td>44.151674</td>\n",
       "      <td>出口金额总计：</td>\n",
       "      <td>977575306</td>\n",
       "      <td>美元</td>\n",
       "    </tr>\n",
       "    <tr>\n",
       "      <th>1</th>\n",
       "      <td>美国</td>\n",
       "      <td>120093526</td>\n",
       "      <td>12.284836</td>\n",
       "      <td>出口国家和地区总计：</td>\n",
       "      <td>139</td>\n",
       "      <td>个</td>\n",
       "    </tr>\n",
       "    <tr>\n",
       "      <th>2</th>\n",
       "      <td>荷兰</td>\n",
       "      <td>54666904</td>\n",
       "      <td>5.592091</td>\n",
       "      <td>NaN</td>\n",
       "      <td>NaN</td>\n",
       "      <td>NaN</td>\n",
       "    </tr>\n",
       "  </tbody>\n",
       "</table>\n",
       "</div>"
      ],
      "text/plain": [
       "  组件出口国家和地区    出口额（美元）        占比%  Unnamed: 3  Unnamed: 4 Unnamed: 5\n",
       "0        日本  431615859  44.151674     出口金额总计：   977575306         美元\n",
       "1        美国  120093526  12.284836  出口国家和地区总计：         139          个\n",
       "2        荷兰   54666904   5.592091         NaN         NaN        NaN"
      ]
     },
     "execution_count": 51,
     "metadata": {},
     "output_type": "execute_result"
    }
   ],
   "source": [
    "July_component_2014.head(3)"
   ]
  },
  {
   "cell_type": "code",
   "execution_count": 42,
   "metadata": {
    "collapsed": false
   },
   "outputs": [
    {
     "ename": "SyntaxError",
     "evalue": "invalid syntax (<ipython-input-42-9d9da5b039c1>, line 1)",
     "output_type": "error",
     "traceback": [
      "\u001b[1;36m  File \u001b[1;32m\"<ipython-input-42-9d9da5b039c1>\"\u001b[1;36m, line \u001b[1;32m1\u001b[0m\n\u001b[1;33m    $pip install py-translate\u001b[0m\n\u001b[1;37m    ^\u001b[0m\n\u001b[1;31mSyntaxError\u001b[0m\u001b[1;31m:\u001b[0m invalid syntax\n"
     ]
    }
   ],
   "source": [
    "$pip install py-translate"
   ]
  },
  {
   "cell_type": "markdown",
   "metadata": {},
   "source": [
    "### 2014 September export, including silicon products, cells and PV component"
   ]
  },
  {
   "cell_type": "code",
   "execution_count": 43,
   "metadata": {
    "collapsed": true
   },
   "outputs": [],
   "source": [
    "Sep_export2014 = pd.ExcelFile('20141113033822500.xlsx')"
   ]
  },
  {
   "cell_type": "code",
   "execution_count": 45,
   "metadata": {
    "collapsed": false
   },
   "outputs": [],
   "source": [
    "Sep_silicon_2014 =    Sep_export2014.parse(0)\n",
    "Sep_cell_2014=    Sep_export2014.parse(1)\n",
    "Sep_component_2014 =  Sep_export2014.parse(2)"
   ]
  },
  {
   "cell_type": "code",
   "execution_count": 52,
   "metadata": {
    "collapsed": false
   },
   "outputs": [
    {
     "data": {
      "text/html": [
       "<div>\n",
       "<table border=\"1\" class=\"dataframe\">\n",
       "  <thead>\n",
       "    <tr style=\"text-align: right;\">\n",
       "      <th></th>\n",
       "      <th>硅片出口国家和地区</th>\n",
       "      <th>出口额（美元）</th>\n",
       "      <th>占比%</th>\n",
       "      <th>Unnamed: 3</th>\n",
       "      <th>Unnamed: 4</th>\n",
       "      <th>Unnamed: 5</th>\n",
       "    </tr>\n",
       "  </thead>\n",
       "  <tbody>\n",
       "    <tr>\n",
       "      <th>0</th>\n",
       "      <td>中国台湾</td>\n",
       "      <td>90973256</td>\n",
       "      <td>51.622951</td>\n",
       "      <td>出口金额总计：</td>\n",
       "      <td>176226376</td>\n",
       "      <td>美元</td>\n",
       "    </tr>\n",
       "    <tr>\n",
       "      <th>1</th>\n",
       "      <td>菲律宾</td>\n",
       "      <td>22216379</td>\n",
       "      <td>12.606727</td>\n",
       "      <td>出口国家和地区总计：</td>\n",
       "      <td>17</td>\n",
       "      <td>个</td>\n",
       "    </tr>\n",
       "    <tr>\n",
       "      <th>2</th>\n",
       "      <td>韩国</td>\n",
       "      <td>21418277</td>\n",
       "      <td>12.153843</td>\n",
       "      <td>NaN</td>\n",
       "      <td>NaN</td>\n",
       "      <td>NaN</td>\n",
       "    </tr>\n",
       "  </tbody>\n",
       "</table>\n",
       "</div>"
      ],
      "text/plain": [
       "  硅片出口国家和地区   出口额（美元）        占比%  Unnamed: 3  Unnamed: 4 Unnamed: 5\n",
       "0      中国台湾  90973256  51.622951     出口金额总计：   176226376         美元\n",
       "1       菲律宾  22216379  12.606727  出口国家和地区总计：          17          个\n",
       "2        韩国  21418277  12.153843         NaN         NaN        NaN"
      ]
     },
     "execution_count": 52,
     "metadata": {},
     "output_type": "execute_result"
    }
   ],
   "source": [
    "Sep_silicon_2014.head(3)"
   ]
  },
  {
   "cell_type": "code",
   "execution_count": 53,
   "metadata": {
    "collapsed": false
   },
   "outputs": [
    {
     "data": {
      "text/html": [
       "<div>\n",
       "<table border=\"1\" class=\"dataframe\">\n",
       "  <thead>\n",
       "    <tr style=\"text-align: right;\">\n",
       "      <th></th>\n",
       "      <th>电池出口国家和地区</th>\n",
       "      <th>出口额（美元）</th>\n",
       "      <th>占比 %</th>\n",
       "      <th>Unnamed: 3</th>\n",
       "      <th>Unnamed: 4</th>\n",
       "      <th>Unnamed: 5</th>\n",
       "    </tr>\n",
       "  </thead>\n",
       "  <tbody>\n",
       "    <tr>\n",
       "      <th>0</th>\n",
       "      <td>韩国</td>\n",
       "      <td>19391862</td>\n",
       "      <td>30.768824</td>\n",
       "      <td>出口金额总计：</td>\n",
       "      <td>63024385</td>\n",
       "      <td>美元</td>\n",
       "    </tr>\n",
       "    <tr>\n",
       "      <th>1</th>\n",
       "      <td>日本</td>\n",
       "      <td>10521172</td>\n",
       "      <td>16.693811</td>\n",
       "      <td>出口国家和地区总计：</td>\n",
       "      <td>66</td>\n",
       "      <td>个</td>\n",
       "    </tr>\n",
       "    <tr>\n",
       "      <th>2</th>\n",
       "      <td>加拿大</td>\n",
       "      <td>8359548</td>\n",
       "      <td>13.263990</td>\n",
       "      <td>NaN</td>\n",
       "      <td>NaN</td>\n",
       "      <td>NaN</td>\n",
       "    </tr>\n",
       "  </tbody>\n",
       "</table>\n",
       "</div>"
      ],
      "text/plain": [
       "  电池出口国家和地区   出口额（美元）       占比 %  Unnamed: 3  Unnamed: 4 Unnamed: 5\n",
       "0        韩国  19391862  30.768824     出口金额总计：    63024385         美元\n",
       "1        日本  10521172  16.693811  出口国家和地区总计：          66          个\n",
       "2       加拿大   8359548  13.263990         NaN         NaN        NaN"
      ]
     },
     "execution_count": 53,
     "metadata": {},
     "output_type": "execute_result"
    }
   ],
   "source": [
    "Sep_cell_2014.head(3)"
   ]
  },
  {
   "cell_type": "code",
   "execution_count": 54,
   "metadata": {
    "collapsed": false
   },
   "outputs": [
    {
     "data": {
      "text/html": [
       "<div>\n",
       "<table border=\"1\" class=\"dataframe\">\n",
       "  <thead>\n",
       "    <tr style=\"text-align: right;\">\n",
       "      <th></th>\n",
       "      <th>组件出口国家和地区</th>\n",
       "      <th>出口额（美元）</th>\n",
       "      <th>占比%</th>\n",
       "      <th>Unnamed: 3</th>\n",
       "      <th>Unnamed: 4</th>\n",
       "      <th>Unnamed: 5</th>\n",
       "    </tr>\n",
       "  </thead>\n",
       "  <tbody>\n",
       "    <tr>\n",
       "      <th>0</th>\n",
       "      <td>日本</td>\n",
       "      <td>431615859</td>\n",
       "      <td>44.151674</td>\n",
       "      <td>出口金额总计：</td>\n",
       "      <td>977575306</td>\n",
       "      <td>美元</td>\n",
       "    </tr>\n",
       "    <tr>\n",
       "      <th>1</th>\n",
       "      <td>美国</td>\n",
       "      <td>120093526</td>\n",
       "      <td>12.284836</td>\n",
       "      <td>出口国家和地区总计：</td>\n",
       "      <td>139</td>\n",
       "      <td>个</td>\n",
       "    </tr>\n",
       "    <tr>\n",
       "      <th>2</th>\n",
       "      <td>荷兰</td>\n",
       "      <td>54666904</td>\n",
       "      <td>5.592091</td>\n",
       "      <td>NaN</td>\n",
       "      <td>NaN</td>\n",
       "      <td>NaN</td>\n",
       "    </tr>\n",
       "  </tbody>\n",
       "</table>\n",
       "</div>"
      ],
      "text/plain": [
       "  组件出口国家和地区    出口额（美元）        占比%  Unnamed: 3  Unnamed: 4 Unnamed: 5\n",
       "0        日本  431615859  44.151674     出口金额总计：   977575306         美元\n",
       "1        美国  120093526  12.284836  出口国家和地区总计：         139          个\n",
       "2        荷兰   54666904   5.592091         NaN         NaN        NaN"
      ]
     },
     "execution_count": 54,
     "metadata": {},
     "output_type": "execute_result"
    }
   ],
   "source": [
    "Sep_component_2014.head(3)"
   ]
  },
  {
   "cell_type": "code",
   "execution_count": null,
   "metadata": {
    "collapsed": true
   },
   "outputs": [],
   "source": []
  }
 ],
 "metadata": {
  "kernelspec": {
   "display_name": "Python 2",
   "language": "python",
   "name": "python2"
  },
  "language_info": {
   "codemirror_mode": {
    "name": "ipython",
    "version": 2
   },
   "file_extension": ".py",
   "mimetype": "text/x-python",
   "name": "python",
   "nbconvert_exporter": "python",
   "pygments_lexer": "ipython2",
   "version": "2.7.11"
  }
 },
 "nbformat": 4,
 "nbformat_minor": 0
}
